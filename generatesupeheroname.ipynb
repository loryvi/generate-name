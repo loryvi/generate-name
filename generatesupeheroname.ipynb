{
  "nbformat": 4,
  "nbformat_minor": 0,
  "metadata": {
    "accelerator": "GPU",
    "colab": {
      "name": "gdsc.ipynb",
      "provenance": [],
      "collapsed_sections": []
    },
    "kernelspec": {
      "display_name": "Python 3",
      "language": "python",
      "name": "python3"
    },
    "language_info": {
      "codemirror_mode": {
        "name": "ipython",
        "version": 3
      },
      "file_extension": ".py",
      "mimetype": "text/x-python",
      "name": "python",
      "nbconvert_exporter": "python",
      "pygments_lexer": "ipython3",
      "version": "3.8.3"
    }
  },
  "cells": [
    {
      "cell_type": "code",
      "metadata": {
        "colab": {
          "base_uri": "https://localhost:8080/"
        },
        "id": "JqhtLuAHpt2R",
        "outputId": "972d2132-0a77-4897-8206-2a7ea9c70847"
      },
      "source": [
        "import tensorflow as tf\n",
        "print(tf.__version__)"
      ],
      "execution_count": 7,
      "outputs": [
        {
          "output_type": "stream",
          "name": "stdout",
          "text": [
            "2.6.0\n"
          ]
        }
      ]
    },
    {
      "cell_type": "code",
      "metadata": {
        "id": "YWk8J7GSO2kE"
      },
      "source": [
        "with open('superheroes.txt','r') as f:\n",
        "  data = f.read()"
      ],
      "execution_count": 5,
      "outputs": []
    },
    {
      "cell_type": "code",
      "metadata": {
        "id": "95Lo1Yqzpt2T"
      },
      "source": [
        "tokenizer = tf.keras.preprocessing.text.Tokenizer( \n",
        "    filters='!\"#$%&()+,/;<=>?@[\\\\]^_`{|}~', #filters the chraters that we dont want to use in our vocabulary\n",
        "    split='\\n', #slpit out data with \\n\n",
        ")"
      ],
      "execution_count": 8,
      "outputs": []
    },
    {
      "cell_type": "code",
      "metadata": {
        "id": "qYfC4sj2pt2V"
      },
      "source": [
        "tokenizer.fit_on_texts(data) #fit our tokenizer in this data, sequemce to char"
      ],
      "execution_count": 14,
      "outputs": []
    },
    {
      "cell_type": "code",
      "metadata": {
        "colab": {
          "base_uri": "https://localhost:8080/"
        },
        "id": "EO4-dPM6pt2X",
        "outputId": "0c8c8478-fef0-4fc2-e0c4-018a44b0c49e"
      },
      "source": [
        "char_to_index = tokenizer.word_index #word index in tokenizer\n",
        "index_to_char = dict((v, k) for k,v in char_to_index.items())  #value for key \n",
        "#another dictionary that index to charaters just incase to do the exact opposite operation\n",
        "\n",
        "print(index_to_char)"
      ],
      "execution_count": 15,
      "outputs": [
        {
          "output_type": "stream",
          "name": "stdout",
          "text": [
            "{1: '\\t', 2: 'a', 3: 'e', 4: 'r', 5: 'o', 6: 'n', 7: 'i', 8: ' ', 9: 't', 10: 's', 11: 'l', 12: 'm', 13: 'h', 14: 'd', 15: 'c', 16: 'u', 17: 'g', 18: 'k', 19: 'b', 20: 'p', 21: 'y', 22: 'w', 23: 'f', 24: 'v', 25: 'j', 26: 'z', 27: 'x', 28: 'q'}\n"
          ]
        }
      ]
    },
    {
      "cell_type": "code",
      "metadata": {
        "colab": {
          "base_uri": "https://localhost:8080/"
        },
        "id": "N7iQLIXzpt2a",
        "outputId": "c30c70c5-e789-416f-c68b-06216ab9f9cd"
      },
      "source": [
        "names = data.splitlines()\n",
        "names[:10] #give names"
      ],
      "execution_count": 16,
      "outputs": [
        {
          "output_type": "execute_result",
          "data": {
            "text/plain": [
              "['jumpa\\t',\n",
              " 'doctor fate\\t',\n",
              " 'starlight\\t',\n",
              " 'isildur\\t',\n",
              " 'lasher\\t',\n",
              " 'varvara\\t',\n",
              " 'the target\\t',\n",
              " 'axel\\t',\n",
              " 'battra\\t',\n",
              " 'changeling\\t']"
            ]
          },
          "metadata": {},
          "execution_count": 16
        }
      ]
    },
    {
      "cell_type": "code",
      "metadata": {
        "colab": {
          "base_uri": "https://localhost:8080/"
        },
        "id": "n_-TTfqipt2c",
        "outputId": "ff5372c4-bc68-4213-aabf-399e74c5d6ed"
      },
      "source": [
        "tokenizer.texts_to_sequences(names[0]) #indicates the nemirecic   "
      ],
      "execution_count": 17,
      "outputs": [
        {
          "output_type": "execute_result",
          "data": {
            "text/plain": [
              "[[25], [16], [12], [20], [2], [1]]"
            ]
          },
          "metadata": {},
          "execution_count": 17
        }
      ]
    },
    {
      "cell_type": "code",
      "metadata": {
        "id": "P6IsKH1Upt2e"
      },
      "source": [
        "def name_to_seq(name):\n",
        "  return[tokenizer.texts_to_sequences(c)[0][0]for c in name] #list"
      ],
      "execution_count": 18,
      "outputs": []
    },
    {
      "cell_type": "code",
      "metadata": {
        "colab": {
          "base_uri": "https://localhost:8080/"
        },
        "id": "TuLUiMP3pt2g",
        "outputId": "aec69bcd-8d3d-44fd-ff84-a14e3aeadc04"
      },
      "source": [
        "name_to_seq(names[0])"
      ],
      "execution_count": 19,
      "outputs": [
        {
          "output_type": "execute_result",
          "data": {
            "text/plain": [
              "[25, 16, 12, 20, 2, 1]"
            ]
          },
          "metadata": {},
          "execution_count": 19
        }
      ]
    },
    {
      "cell_type": "code",
      "metadata": {
        "id": "yFUYhimKpt2h"
      },
      "source": [
        "def seq_to_name(seq):\n",
        "  return ''.join([index_to_char[i] for i in seq if i != 0]) #recursive function return space and join seq then seq to char"
      ],
      "execution_count": 20,
      "outputs": []
    },
    {
      "cell_type": "code",
      "metadata": {
        "id": "ROhCqmhLpt2k",
        "colab": {
          "base_uri": "https://localhost:8080/",
          "height": 35
        },
        "outputId": "a53e9182-270d-4d66-e25c-fc0a448fdeba"
      },
      "source": [
        "seq_to_name(name_to_seq(names[0]))"
      ],
      "execution_count": 21,
      "outputs": [
        {
          "output_type": "execute_result",
          "data": {
            "application/vnd.google.colaboratory.intrinsic+json": {
              "type": "string"
            },
            "text/plain": [
              "'jumpa\\t'"
            ]
          },
          "metadata": {},
          "execution_count": 21
        }
      ]
    },
    {
      "cell_type": "code",
      "metadata": {
        "id": "zstNn-0dpt2m"
      },
      "source": [
        "sequences = []\n",
        "\n",
        "for name in names:\n",
        "  seq = name_to_seq(name)\n",
        "  if len(seq) >=2:\n",
        "    sequences += [seq[:i] for i in range(2,len(seq) + 1 )]"
      ],
      "execution_count": 22,
      "outputs": []
    },
    {
      "cell_type": "code",
      "metadata": {
        "id": "BjRTMysvpt2o",
        "colab": {
          "base_uri": "https://localhost:8080/"
        },
        "outputId": "ee980151-3ad7-4704-e2df-b85bf983f290"
      },
      "source": [
        "sequences[:10]"
      ],
      "execution_count": 23,
      "outputs": [
        {
          "output_type": "execute_result",
          "data": {
            "text/plain": [
              "[[25, 16],\n",
              " [25, 16, 12],\n",
              " [25, 16, 12, 20],\n",
              " [25, 16, 12, 20, 2],\n",
              " [25, 16, 12, 20, 2, 1],\n",
              " [14, 5],\n",
              " [14, 5, 15],\n",
              " [14, 5, 15, 9],\n",
              " [14, 5, 15, 9, 5],\n",
              " [14, 5, 15, 9, 5, 4]]"
            ]
          },
          "metadata": {},
          "execution_count": 23
        }
      ]
    },
    {
      "cell_type": "code",
      "metadata": {
        "id": "SR68pu2tpt2q",
        "colab": {
          "base_uri": "https://localhost:8080/"
        },
        "outputId": "98a11029-32af-4043-b45d-bdf8ddd1d6a0"
      },
      "source": [
        "max_len = max([len(x) for x in sequences])\n",
        "print(max_len)"
      ],
      "execution_count": 24,
      "outputs": [
        {
          "output_type": "stream",
          "name": "stdout",
          "text": [
            "33\n"
          ]
        }
      ]
    },
    {
      "cell_type": "code",
      "metadata": {
        "id": "h_1BtWO7pt2r",
        "colab": {
          "base_uri": "https://localhost:8080/"
        },
        "outputId": "9b85d5cf-171d-4f83-e21e-d09e67833fbd"
      },
      "source": [
        "padded_sequences = tf.keras.preprocessing.sequence.pad_sequences(\n",
        "    sequences, padding ='pre',\n",
        "    maxlen = max_len\n",
        ")\n",
        "\n",
        "print(padded_sequences[0])"
      ],
      "execution_count": 25,
      "outputs": [
        {
          "output_type": "stream",
          "name": "stdout",
          "text": [
            "[ 0  0  0  0  0  0  0  0  0  0  0  0  0  0  0  0  0  0  0  0  0  0  0  0\n",
            "  0  0  0  0  0  0  0 25 16]\n"
          ]
        }
      ]
    },
    {
      "cell_type": "code",
      "metadata": {
        "id": "sPlrLRpSpt2t",
        "colab": {
          "base_uri": "https://localhost:8080/"
        },
        "outputId": "47867322-d234-4c06-9405-5795e432c63e"
      },
      "source": [
        "padded_sequences.shape"
      ],
      "execution_count": 26,
      "outputs": [
        {
          "output_type": "execute_result",
          "data": {
            "text/plain": [
              "(88279, 33)"
            ]
          },
          "metadata": {},
          "execution_count": 26
        }
      ]
    },
    {
      "cell_type": "code",
      "metadata": {
        "id": "BE4BIeSnpt2v",
        "colab": {
          "base_uri": "https://localhost:8080/"
        },
        "outputId": "0928c9db-0ccc-4fe9-9e1e-b5ddd9b8abb3"
      },
      "source": [
        "x, y = padded_sequences[:, :-1], padded_sequences[:,-1]\n",
        "print(x.shape,y.shape) #get x and y     , x examples,labels . length of sequence. y"
      ],
      "execution_count": 27,
      "outputs": [
        {
          "output_type": "stream",
          "name": "stdout",
          "text": [
            "(88279, 32) (88279,)\n"
          ]
        }
      ]
    },
    {
      "cell_type": "code",
      "metadata": {
        "id": "iHloGwuJ0wpz",
        "colab": {
          "base_uri": "https://localhost:8080/"
        },
        "outputId": "82d778c6-5718-46a0-b65b-6983967ae7e4"
      },
      "source": [
        "from sklearn.model_selection import train_test_split\n",
        "x_train, x_test, y_train, y_test = train_test_split(x,y) #train test split . train and test first\n",
        "\n",
        "print(x_train.shape, y_train.shape)\n",
        "print(x_test.shape, y_test.shape)"
      ],
      "execution_count": 28,
      "outputs": [
        {
          "output_type": "stream",
          "name": "stdout",
          "text": [
            "(66209, 32) (66209,)\n",
            "(22070, 32) (22070,)\n"
          ]
        }
      ]
    },
    {
      "cell_type": "code",
      "metadata": {
        "id": "cgqRZtqnpt2x",
        "colab": {
          "base_uri": "https://localhost:8080/"
        },
        "outputId": "5dd3c156-9b40-4d08-ce0f-26e26a710135"
      },
      "source": [
        "num_chars = len(char_to_index.keys()) + 1 #zero to vocabulary is the +1\n",
        "print(num_chars)"
      ],
      "execution_count": 29,
      "outputs": [
        {
          "output_type": "stream",
          "name": "stdout",
          "text": [
            "29\n"
          ]
        }
      ]
    },
    {
      "cell_type": "code",
      "metadata": {
        "id": "atZblQ7a0wpz",
        "colab": {
          "base_uri": "https://localhost:8080/"
        },
        "outputId": "69026b53-565f-472d-b8c1-88ee6f36113f"
      },
      "source": [
        "from tensorflow.keras.models import Sequential\n",
        "from tensorflow.keras.layers import Embedding, Conv1D, MaxPool1D, LSTM\n",
        "from tensorflow.keras.layers import Bidirectional, Dense\n",
        "\n",
        "model = Sequential([\n",
        "                    Embedding(num_chars, 8, input_length=max_len-1),\n",
        "                    Conv1D(64, 5, strides=1, activation='tanh', padding='causal'),\n",
        "                    MaxPool1D(2),\n",
        "                    LSTM(32),\n",
        "                    Dense(num_chars,activation='softmax'),\n",
        "])\n",
        "\n",
        "model.compile(\n",
        "    loss = 'sparse_categorical_crossentropy',\n",
        "    optimizer='adam',\n",
        "    metrics=['accuracy']\n",
        ")\n",
        "\n",
        "model.summary()"
      ],
      "execution_count": 30,
      "outputs": [
        {
          "output_type": "stream",
          "name": "stdout",
          "text": [
            "Model: \"sequential\"\n",
            "_________________________________________________________________\n",
            "Layer (type)                 Output Shape              Param #   \n",
            "=================================================================\n",
            "embedding (Embedding)        (None, 32, 8)             232       \n",
            "_________________________________________________________________\n",
            "conv1d (Conv1D)              (None, 32, 64)            2624      \n",
            "_________________________________________________________________\n",
            "max_pooling1d (MaxPooling1D) (None, 16, 64)            0         \n",
            "_________________________________________________________________\n",
            "lstm (LSTM)                  (None, 32)                12416     \n",
            "_________________________________________________________________\n",
            "dense (Dense)                (None, 29)                957       \n",
            "=================================================================\n",
            "Total params: 16,229\n",
            "Trainable params: 16,229\n",
            "Non-trainable params: 0\n",
            "_________________________________________________________________\n"
          ]
        }
      ]
    },
    {
      "cell_type": "code",
      "metadata": {
        "id": "j0Ssl4qupt22",
        "colab": {
          "base_uri": "https://localhost:8080/"
        },
        "outputId": "cb2272e6-8b6a-491f-900d-e78bd3ec9e65"
      },
      "source": [
        "h = model.fit(\n",
        "    x_train, y_train,\n",
        "    validation_data = (x_test,y_test),\n",
        "    epochs=50, verbose = 2,\n",
        "    callbacks = [\n",
        "                 tf.keras.callbacks.EarlyStopping(monitor = 'val_accuracy', patience=3)\n",
        "    ]     \n",
        ")"
      ],
      "execution_count": 31,
      "outputs": [
        {
          "output_type": "stream",
          "name": "stdout",
          "text": [
            "Epoch 1/50\n",
            "2070/2070 - 45s - loss: 2.7449 - accuracy: 0.1854 - val_loss: 2.5913 - val_accuracy: 0.2222\n",
            "Epoch 2/50\n",
            "2070/2070 - 15s - loss: 2.5536 - accuracy: 0.2312 - val_loss: 2.5057 - val_accuracy: 0.2432\n",
            "Epoch 3/50\n",
            "2070/2070 - 15s - loss: 2.4859 - accuracy: 0.2506 - val_loss: 2.4512 - val_accuracy: 0.2626\n",
            "Epoch 4/50\n",
            "2070/2070 - 15s - loss: 2.4385 - accuracy: 0.2632 - val_loss: 2.4150 - val_accuracy: 0.2712\n",
            "Epoch 5/50\n",
            "2070/2070 - 15s - loss: 2.4011 - accuracy: 0.2712 - val_loss: 2.3843 - val_accuracy: 0.2776\n",
            "Epoch 6/50\n",
            "2070/2070 - 15s - loss: 2.3711 - accuracy: 0.2806 - val_loss: 2.3648 - val_accuracy: 0.2860\n",
            "Epoch 7/50\n",
            "2070/2070 - 15s - loss: 2.3438 - accuracy: 0.2907 - val_loss: 2.3417 - val_accuracy: 0.2973\n",
            "Epoch 8/50\n",
            "2070/2070 - 15s - loss: 2.3194 - accuracy: 0.2972 - val_loss: 2.3219 - val_accuracy: 0.3024\n",
            "Epoch 9/50\n",
            "2070/2070 - 15s - loss: 2.2984 - accuracy: 0.3045 - val_loss: 2.3126 - val_accuracy: 0.3010\n",
            "Epoch 10/50\n",
            "2070/2070 - 15s - loss: 2.2785 - accuracy: 0.3110 - val_loss: 2.2945 - val_accuracy: 0.3099\n",
            "Epoch 11/50\n",
            "2070/2070 - 15s - loss: 2.2600 - accuracy: 0.3166 - val_loss: 2.2900 - val_accuracy: 0.3063\n",
            "Epoch 12/50\n",
            "2070/2070 - 15s - loss: 2.2436 - accuracy: 0.3213 - val_loss: 2.2725 - val_accuracy: 0.3115\n",
            "Epoch 13/50\n",
            "2070/2070 - 15s - loss: 2.2281 - accuracy: 0.3257 - val_loss: 2.2649 - val_accuracy: 0.3166\n",
            "Epoch 14/50\n",
            "2070/2070 - 15s - loss: 2.2126 - accuracy: 0.3321 - val_loss: 2.2599 - val_accuracy: 0.3219\n",
            "Epoch 15/50\n",
            "2070/2070 - 15s - loss: 2.1986 - accuracy: 0.3354 - val_loss: 2.2497 - val_accuracy: 0.3232\n",
            "Epoch 16/50\n",
            "2070/2070 - 15s - loss: 2.1854 - accuracy: 0.3401 - val_loss: 2.2441 - val_accuracy: 0.3262\n",
            "Epoch 17/50\n",
            "2070/2070 - 15s - loss: 2.1725 - accuracy: 0.3434 - val_loss: 2.2378 - val_accuracy: 0.3308\n",
            "Epoch 18/50\n",
            "2070/2070 - 15s - loss: 2.1624 - accuracy: 0.3463 - val_loss: 2.2330 - val_accuracy: 0.3326\n",
            "Epoch 19/50\n",
            "2070/2070 - 15s - loss: 2.1510 - accuracy: 0.3511 - val_loss: 2.2266 - val_accuracy: 0.3329\n",
            "Epoch 20/50\n",
            "2070/2070 - 15s - loss: 2.1410 - accuracy: 0.3550 - val_loss: 2.2257 - val_accuracy: 0.3337\n",
            "Epoch 21/50\n",
            "2070/2070 - 15s - loss: 2.1324 - accuracy: 0.3583 - val_loss: 2.2227 - val_accuracy: 0.3395\n",
            "Epoch 22/50\n",
            "2070/2070 - 15s - loss: 2.1242 - accuracy: 0.3615 - val_loss: 2.2160 - val_accuracy: 0.3443\n",
            "Epoch 23/50\n",
            "2070/2070 - 15s - loss: 2.1153 - accuracy: 0.3641 - val_loss: 2.2123 - val_accuracy: 0.3452\n",
            "Epoch 24/50\n",
            "2070/2070 - 15s - loss: 2.1072 - accuracy: 0.3658 - val_loss: 2.2134 - val_accuracy: 0.3434\n",
            "Epoch 25/50\n",
            "2070/2070 - 15s - loss: 2.0996 - accuracy: 0.3692 - val_loss: 2.2106 - val_accuracy: 0.3449\n",
            "Epoch 26/50\n",
            "2070/2070 - 15s - loss: 2.0918 - accuracy: 0.3722 - val_loss: 2.2061 - val_accuracy: 0.3476\n",
            "Epoch 27/50\n",
            "2070/2070 - 15s - loss: 2.0848 - accuracy: 0.3734 - val_loss: 2.2070 - val_accuracy: 0.3490\n",
            "Epoch 28/50\n",
            "2070/2070 - 15s - loss: 2.0782 - accuracy: 0.3771 - val_loss: 2.2037 - val_accuracy: 0.3517\n",
            "Epoch 29/50\n",
            "2070/2070 - 15s - loss: 2.0723 - accuracy: 0.3791 - val_loss: 2.2017 - val_accuracy: 0.3468\n",
            "Epoch 30/50\n",
            "2070/2070 - 15s - loss: 2.0661 - accuracy: 0.3793 - val_loss: 2.2012 - val_accuracy: 0.3502\n",
            "Epoch 31/50\n",
            "2070/2070 - 15s - loss: 2.0595 - accuracy: 0.3838 - val_loss: 2.1991 - val_accuracy: 0.3480\n"
          ]
        }
      ]
    },
    {
      "cell_type": "code",
      "metadata": {
        "id": "yb1YIE0XIK5X",
        "colab": {
          "base_uri": "https://localhost:8080/",
          "height": 265
        },
        "outputId": "cf2abd3a-6897-4faa-c465-40fc28cfba37"
      },
      "source": [
        "from matplotlib import pyplot as plt\n",
        "\n",
        "epochs_ran= len(h.history['loss'])  #calculate the loss which is the \n",
        "\n",
        "plt.plot(range(0,epochs_ran), h.history['val_accuracy'], label='Validation') # validation accuracy\n",
        "plt.plot(range(0,epochs_ran), h.history['accuracy'], label='Training') #training accuracy \n",
        "plt.show()  "
      ],
      "execution_count": 34,
      "outputs": [
        {
          "output_type": "display_data",
          "data": {
            "image/png": "[encoded data removed]",
            "text/plain": [
              "<Figure size 432x288 with 1 Axes>"
            ]
          },
          "metadata": {
            "needs_background": "light"
          }
        }
      ]
    },
    {
      "cell_type": "markdown",
      "metadata": {
        "id": "2Vbpr0920wp0"
      },
      "source": [
        "## Task 8: Generate Names!"
      ]
    },
    {
      "cell_type": "code",
      "metadata": {
        "id": "9f50aTRcpt24"
      },
      "source": [
        "def generate_names(seed):\n",
        "  for i in range(0,40):\n",
        "    seq= name_to_seq(seed)\n",
        "    padded = tf.keras.preprocessing.sequence.pad_sequences([seq],\n",
        "                                                           padding='pre',\n",
        "                                                           maxlen=max_len-1,\n",
        "                                                           truncating='pre',\n",
        "                                                           )\n",
        "    pred = model.predict(padded)[0]\n",
        "    pred_char = index_to_char[tf.argmax(pred).numpy()]\n",
        "    seed += pred_char\n",
        "\n",
        "    if pred_char == '\\t':\n",
        "      break\n",
        "  print(seed)"
      ],
      "execution_count": 35,
      "outputs": []
    },
    {
      "cell_type": "code",
      "metadata": {
        "id": "faQ0FInlpt26",
        "colab": {
          "base_uri": "https://localhost:8080/"
        },
        "outputId": "cef334c7-c0b7-4fc4-efd1-6e00aec894df"
      },
      "source": [
        "generate_names('u')"
      ],
      "execution_count": 51,
      "outputs": [
        {
          "output_type": "stream",
          "name": "stdout",
          "text": [
            "ultrain\t\n"
          ]
        }
      ]
    },
    {
      "cell_type": "code",
      "metadata": {
        "id": "IfOQdJtvLej3",
        "colab": {
          "base_uri": "https://localhost:8080/"
        },
        "outputId": "343774a7-b601-45fc-e82a-10efd0d06770"
      },
      "source": [
        "for i in range(ord('A'), ord('Z')+1):\n",
        "    generate_names(chr(i))"
      ],
      "execution_count": 137,
      "outputs": [
        {
          "output_type": "stream",
          "name": "stdout",
          "text": [
            "Artinas\t\n",
            "Batman\t\n",
            "Captain man\t\n",
            "Dorman\t\n",
            "Elessitl\t\n",
            "Frand stark\t\n",
            "Green man\t\n",
            "Herman\t\n",
            "Iron man\t\n",
            "Jack sharr\t\n",
            "Karlo\t\n",
            "Lestor\t\n",
            "Mantis\t\n",
            "Nightwing\t\n",
            "Onessit\t\n",
            "Porman\t\n",
            "Quintsan man\t\n",
            "Red the hulk\t\n",
            "Spiderman\t\n",
            "The superman\t\n",
            "Ultrain\t\n",
            "Verdel superman\t\n",
            "Warlo\t\n",
            "Xarin man\t\n",
            "Yander superman\t\n",
            "Zarlo\t\n"
          ]
        }
      ]
    },
    {
      "cell_type": "code",
      "metadata": {
        "id": "GukDdz2la-KC"
      },
      "source": [
        ""
      ],
      "execution_count": null,
      "outputs": []
    }
  ]
}